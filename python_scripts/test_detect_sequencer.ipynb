{
 "cells": [
  {
   "cell_type": "code",
   "execution_count": 1,
   "metadata": {},
   "outputs": [],
   "source": [
    "import detect_sequencer as det"
   ]
  },
  {
   "cell_type": "code",
   "execution_count": 2,
   "metadata": {},
   "outputs": [],
   "source": [
    "def test_sequencer_detection(sample):\n",
    "\n",
    "    iid, fcid = det.parse_readhead(sample) \n",
    "    seqr, msg = det.infer_sequencer_with_message(iid,fcid)\n",
    "    for sr in seqr:\n",
    "        signal = (sr,msg)\n",
    "\n",
    "    return signal"
   ]
  },
  {
   "cell_type": "code",
   "execution_count": 3,
   "metadata": {},
   "outputs": [
    {
     "name": "stdout",
     "output_type": "stream",
     "text": [
      "@HISEQ:201:C6242ANXX:2:1101:1617:2247 1:n:0:GAGATTCCAGGCGAAG \n",
      " ('HiSeq 2500', '(likelihood: likely)')\n",
      "@HWI-D00458:19:H9BTJADXX:2:1101:1167:2133 1:n:0:GTGGCC \n",
      " ('HiSeq2000/2500', 'high')\n",
      "@D00118:256:C85YMANXX:6:2209:1222:2039 1:n:0:CGCTCATT+AGGCGAAG \n",
      " ('HiSeq2000/2500', 'high')\n",
      "@ST-E00215:132:H32GTALXX:8:1101:1194:1309 1:n:0:NTTCCT \n",
      " ('HiSeq X', 'high')\n"
     ]
    }
   ],
   "source": [
    "\n",
    "Samples = [\"@HISEQ:201:C6242ANXX:2:1101:1617:2247 1:n:0:GAGATTCCAGGCGAAG\",\n",
    "            \"@HWI-D00458:19:H9BTJADXX:2:1101:1167:2133 1:n:0:GTGGCC\",\n",
    "            \"@D00118:256:C85YMANXX:6:2209:1222:2039 1:n:0:CGCTCATT+AGGCGAAG\",\n",
    "            \"@ST-E00215:132:H32GTALXX:8:1101:1194:1309 1:n:0:NTTCCT\"]\n",
    "for sample in Samples:\n",
    "    print(sample, '\\n', test_sequencer_detection(sample))\n",
    "    "
   ]
  }
 ],
 "metadata": {
  "kernelspec": {
   "display_name": "Python 3",
   "language": "python",
   "name": "python3"
  },
  "language_info": {
   "codemirror_mode": {
    "name": "ipython",
    "version": 3
   },
   "file_extension": ".py",
   "mimetype": "text/x-python",
   "name": "python",
   "nbconvert_exporter": "python",
   "pygments_lexer": "ipython3",
   "version": "3.10.12"
  }
 },
 "nbformat": 4,
 "nbformat_minor": 2
}
